{
 "cells": [
  {
   "cell_type": "markdown",
   "id": "5285a738-c272-4c4a-84f3-833c82f63091",
   "metadata": {},
   "source": [
    "# Make protein tree of cycloprodigiosin genes"
   ]
  },
  {
   "cell_type": "markdown",
   "id": "57902725-0c46-47e4-871d-3941d3cc8c07",
   "metadata": {},
   "source": [
    "### Get protein sequences for AGMO annotated genes"
   ]
  },
  {
   "cell_type": "code",
   "execution_count": null,
   "id": "b7eec319-11d3-4162-9b6d-810dac47d2b2",
   "metadata": {},
   "outputs": [],
   "source": [
    "# first get list of genes\n",
    "grep \"K15537\" annotations.tsv > K15537_hits.tsv # note: all genes are also annotated as PF04116.16 (the protein family for PRUB680)\n",
    "\n",
    "# clean header in annotations for exact pattern matching (otherwise matches to incorrect genes)\n",
    "awk '/^>/ {split($0, a, \" \"); print a[1]; next} {print}' genes.faa > cleaned_genes.faa\n",
    "\n",
    "# use list to extract protein seqs (note: grep -Fx for exact line matching; grep -v \"^--$\" to remove separator line from grep -A)\n",
    "cut -f1 K15537_hits.tsv | sed 's/^/>/' | grep -Fxf - -A1 cleanded_genes.faa | grep -v \"^--$\" > K15537_genes.faa"
   ]
  },
  {
   "cell_type": "markdown",
   "id": "de930849-9d8b-422f-a469-888d43e9fa28",
   "metadata": {},
   "source": [
    "### Get PRUB680 protein sequence"
   ]
  },
  {
   "cell_type": "code",
   "execution_count": null,
   "id": "5fa2e60c-abb8-4421-9729-395a7721f1b2",
   "metadata": {},
   "outputs": [],
   "source": [
    "# downloaded from https://www.uniprot.org/uniparc/UPI00026CC750/entry\n",
    "\"/scratch/project/micro_inducers/data/ncbi/cyclo/U1KYF0.fasta\""
   ]
  },
  {
   "cell_type": "markdown",
   "id": "641380e6-e627-4da8-9e98-a6f3249b8b0d",
   "metadata": {},
   "source": [
    "### Get UniProt RP75 alignment for PF04116 "
   ]
  },
  {
   "cell_type": "markdown",
   "id": "b779a122-99d7-4d6f-b424-12e1d007515b",
   "metadata": {},
   "source": [
    "protein family for PRUB680 - AGMO (K15537) also has this annotation"
   ]
  },
  {
   "cell_type": "code",
   "execution_count": null,
   "id": "dd428f28-4d4c-4d34-8674-692044c6e491",
   "metadata": {},
   "outputs": [],
   "source": [
    "# alignment downdloaded from https://www.ebi.ac.uk/interpro/entry/pfam/PF04116/ - alignment tab\n",
    "# includes both full (~20,000 sequences) and seed (curated ~100 sequences) alignments"
   ]
  },
  {
   "cell_type": "markdown",
   "id": "662dc9f8-0f3a-429c-bcc0-36ae2a9ab099",
   "metadata": {},
   "source": [
    "Alignments are in stockholm format, need to convert to fasta"
   ]
  },
  {
   "cell_type": "code",
   "execution_count": null,
   "id": "f23d0f06-111e-4c42-9998-00034e0ebe5a",
   "metadata": {},
   "outputs": [],
   "source": [
    "# convert alignment with HMMER\n",
    "\n",
    "# reformat\n",
    "esl-reformat afa PF04116.alignment.full.sto > PF04116.alignment.full.fasta\n",
    "esl-reformat afa PF04116.alignment.seed.sto > PF04116.alignment.seed.fasta"
   ]
  },
  {
   "cell_type": "markdown",
   "id": "839329da-5c66-4cee-95bf-074200f1525e",
   "metadata": {},
   "source": [
    "### Add sequences to alignment"
   ]
  },
  {
   "cell_type": "code",
   "execution_count": null,
   "id": "2dd6b516-a93d-458c-aed5-b205ca02192d",
   "metadata": {},
   "outputs": [],
   "source": [
    "# combine PRUB680 with AGMO seqs\n",
    "cat K15537_genes.faa U1KYF0.fasta > K15537_U1KYF0.faa"
   ]
  },
  {
   "cell_type": "code",
   "execution_count": null,
   "id": "4ab303ed-8998-4570-beff-a1e219b4e499",
   "metadata": {},
   "outputs": [],
   "source": [
    "# bunya interactive\n",
    "\n",
    "# load module\n",
    "module load mafft/7.490-gcc-10.3.0-with-extensions\n",
    "\n",
    "# add seqs to alignment\n",
    "mafft --add K15537_U1KYF0.faa --keeplength --reorder PF04116.alignment.full.fasta > cyclo_combined_full_alignment.fasta\n",
    "mafft --add K15537_U1KYF0.faa --keeplength --reorder PF04116.alignment.seed.fasta > cyclo_combined_seed_alignment.fasta"
   ]
  },
  {
   "cell_type": "markdown",
   "id": "8bb4d916-746c-443c-a48b-db8c3c700460",
   "metadata": {},
   "source": [
    "### Infer phylogenetic tree"
   ]
  },
  {
   "cell_type": "code",
   "execution_count": null,
   "id": "4c3a9524-a1c0-434c-9306-d276e456c6ff",
   "metadata": {},
   "outputs": [],
   "source": [
    "#!/bin/bash -l\n",
    "#SBATCH --nodes=1\n",
    "#SBATCH --ntasks-per-node=1\n",
    "#SBATCH --cpus-per-task=60\n",
    "#SBATCH --mem=36G\n",
    "#SBATCH --job-name=iqtree\n",
    "#SBATCH --time=24:00:00\n",
    "#SBATCH --partition=general\n",
    "#SBATCH --account=a_ace\n",
    "#SBATCH -o /home/uqpobri2/scripts/out/iqtree.out\n",
    "#SBATCH -e /home/uqpobri2/scripts/error/iqtree.error\n",
    "\n",
    "##################################################\n",
    "\n",
    "# infer phylogeny using iqtree\n",
    "\n",
    "# load sofware\n",
    "module load iqtree/2.2.2.3\n",
    "\n",
    "# set dir\n",
    "inDir=\"/scratch/project/micro_inducers/analysis/ECT03-1_biofilm_MG_2022/16_cyclo_tree/alignment\"\n",
    "outDir=\"/scratch/project/micro_inducers/analysis/ECT03-1_biofilm_MG_2022/16_cyclo_tree/iqtree\"\n",
    "\n",
    "# find best model and infer tree\n",
    "# --reorder alignment\n",
    "iqtree -s $inDir/cyclo_combined_seed_alignment.fasta -m TEST -nt 60 -B 1000 --prefix $outDir/cyclo_combined_seed_iqtree"
   ]
  },
  {
   "cell_type": "markdown",
   "id": "8ef96c7e-ad7d-43e0-bb8d-9f11852a778e",
   "metadata": {},
   "source": [
    "### Get tree metadata"
   ]
  },
  {
   "cell_type": "markdown",
   "id": "7ec03c3c-c018-4bde-8428-1d79a8892c0f",
   "metadata": {},
   "source": [
    "Get metadata for protein sequences downloaded from Interpro"
   ]
  },
  {
   "cell_type": "code",
   "execution_count": null,
   "id": "59eedf99-ac4e-4e99-9b56-93abf8c48142",
   "metadata": {},
   "outputs": [],
   "source": [
    "# first get pfam ids from stockholm alignment\n",
    "grep -v '^#' PF04116.alignment.seed.sto | awk '{print $1}' > pfam_ids.txt"
   ]
  },
  {
   "cell_type": "markdown",
   "id": "a78a460a-174d-437f-ac40-44dcb7aa429f",
   "metadata": {},
   "source": [
    "Now batch search on the UniProt webpage (https://www.uniprot.org/):\n",
    "\n",
    "1. Click on 'list' in search bar\n",
    "\n",
    "2. Upload pfam ids\n",
    "\n",
    "3. When search is finished click 'Download', change format to TSV.\n",
    "\n",
    "4. Under UniProt data click the down arrow for 'names and taxonomy'\n",
    "\n",
    "5. Ensure 'taxonomic lineage' is selected\n",
    "\n",
    "6. Finally click 'download'\n",
    "\n"
   ]
  },
  {
   "cell_type": "code",
   "execution_count": null,
   "id": "6a45caa8-aca1-463a-8cf0-cdb66547516a",
   "metadata": {},
   "outputs": [],
   "source": []
  }
 ],
 "metadata": {
  "kernelspec": {
   "display_name": "Bash",
   "language": "bash",
   "name": "bash"
  },
  "language_info": {
   "codemirror_mode": "shell",
   "file_extension": ".sh",
   "mimetype": "text/x-sh",
   "name": "bash"
  }
 },
 "nbformat": 4,
 "nbformat_minor": 5
}
