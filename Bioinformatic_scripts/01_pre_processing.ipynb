{
 "cells": [
  {
   "cell_type": "markdown",
   "metadata": {},
   "source": [
    "# Pre-process metagenome data"
   ]
  },
  {
   "cell_type": "markdown",
   "metadata": {},
   "source": [
    "### Symlink data to projects folder"
   ]
  },
  {
   "cell_type": "code",
   "execution_count": null,
   "metadata": {
    "vscode": {
     "languageId": "shellscript"
    }
   },
   "outputs": [],
   "source": [
    "# run 1\n",
    "for FILE in $(ls /srv/data/by_run/NVS031/paulobrien/*/*.fastq.gz); do\n",
    "    echo $FILE\n",
    "    ln -s $FILE /srv/projects/microbial_inducers/data/20220921_metagenome_data\n",
    "done"
   ]
  },
  {
   "cell_type": "code",
   "execution_count": null,
   "metadata": {
    "vscode": {
     "languageId": "shellscript"
    }
   },
   "outputs": [],
   "source": [
    "# run 2\n",
    "for FILE in $(ls /srv/data/by_run/NVS032/paulobrien/*/*.fastq.gz); do\n",
    "    echo $FILE\n",
    "    ln -s $FILE /srv/projects/microbial_inducers/data/20221105_metageome_data_2\n",
    "done"
   ]
  },
  {
   "cell_type": "code",
   "execution_count": null,
   "metadata": {
    "vscode": {
     "languageId": "shellscript"
    }
   },
   "outputs": [],
   "source": [
    "# run 2 - repeats (linking to same folder)\n",
    "for FILE in $(ls /srv/data/by_run/NVS046/paulobrien/*/*.fastq.gz); do\n",
    "    echo $FILE\n",
    "    ln -s $FILE /srv/projects/microbial_inducers/data/20221105_metageome_data_2\n",
    "done\n"
   ]
  },
  {
   "cell_type": "markdown",
   "metadata": {},
   "source": [
    "### Run fastqc to check quality of reads"
   ]
  },
  {
   "cell_type": "code",
   "execution_count": null,
   "metadata": {
    "vscode": {
     "languageId": "shellscript"
    }
   },
   "outputs": [],
   "source": [
    "#!/bin/bash\n",
    "\n",
    "# sequencing run 1\n",
    "\n",
    "# load software\n",
    "module load miniconda3\n",
    "conda activate fastqc_0.11.9\n",
    "\n",
    "# run fastqc for each read file\n",
    "for FILE in $(ls /srv/data/by_run/NVS031/paulobrien/*/*.fastq.gz); do\n",
    "    DIR=$(dirname $FILE)\n",
    "    SAMPLE=$(basename $FILE | cut -d \".\" -f 1)\n",
    "# check variables\n",
    "    echo \"filepath is: $DIR\"\n",
    "    echo \"fastqc sample: $SAMPLE\"\n",
    "# run fastqc\n",
    "    fastqc -o /srv/projects/microbial_inducers/analysis/biofilm_metagenome/01_qc_reads/01_fastqc -t 20 --nogroup $DIR/${SAMPLE}.fastq.gz\n",
    "done\n"
   ]
  },
  {
   "cell_type": "code",
   "execution_count": null,
   "metadata": {
    "vscode": {
     "languageId": "shellscript"
    }
   },
   "outputs": [],
   "source": [
    "#!/bin/bash\n",
    "\n",
    "# sequencing run 2\n",
    "\n",
    "# load software\n",
    "module load miniconda3\n",
    "conda activate fastqc_0.11.9\n",
    "\n",
    "# run fastqc for each read file\n",
    "for FILE in $(ls /srv/data/by_run/NVS032/paulobrien/*/*.fastq.gz); do\n",
    "    DIR=$(dirname $FILE)\n",
    "    SAMPLE=$(basename $FILE | cut -d \".\" -f 1)\n",
    "# check variables\n",
    "    echo \"filepath is: $DIR\"\n",
    "    echo \"fastqc sample: $SAMPLE\"\n",
    "# run fastqc\n",
    "  fastqc -o /srv/projects/microbial_inducers/analysis/biofilm_metagenome/01_qc_reads/01_fastqc/run2 -t 20 --nogroup $DIR/${SAMPLE}.fastq.gz\n",
    "done\n"
   ]
  },
  {
   "cell_type": "code",
   "execution_count": null,
   "metadata": {
    "vscode": {
     "languageId": "shellscript"
    }
   },
   "outputs": [],
   "source": [
    "#!/bin/bash\n",
    "\n",
    "# run 2 - repeats\n",
    "\n",
    "# load software\n",
    "module load miniconda3\n",
    "conda activate fastqc_0.11.9\n",
    "\n",
    "# run fastqc for each read file\n",
    "for FILE in $(ls /srv/data/by_run/NVS046/paulobrien/*/*.fastq.gz); do\n",
    "    DIR=$(dirname $FILE)\n",
    "    SAMPLE=$(basename $FILE | cut -d \".\" -f 1)\n",
    "# check variables\n",
    "    echo \"filepath is: $DIR\"\n",
    "    echo \"fastqc sample: $SAMPLE\"\n",
    "# run fastqc\n",
    "  fastqc -o /srv/projects/microbial_inducers/analysis/biofilm_metagenome/01_qc_reads/01_fastqc/run2_repeats -t 20 --nogroup $DIR/${SAMPLE}.fastq.gz\n",
    "done\n"
   ]
  },
  {
   "cell_type": "markdown",
   "metadata": {},
   "source": [
    "### Concatenate repeats - some samples sequenced twice due to low data output"
   ]
  },
  {
   "cell_type": "code",
   "execution_count": null,
   "metadata": {
    "vscode": {
     "languageId": "shellscript"
    }
   },
   "outputs": [],
   "source": [
    "#!/bin/bash\n",
    "\n",
    "# concatenate sequencing repeats\n",
    "\n",
    "path=\"/srv/projects/microbial_inducers/data/20221105_metageome_data_2\"\n",
    "ids=\"SE6778 SE6779 SE6781 SE6784 SE6789 SE6794 SE6796 SE6810 SE6812 SE6821 SE6824 SE6827 SE6829 SE6835 SE6847 SE6860\"\n",
    "\n",
    "for i in $ids; do\n",
    "    echo $i\n",
    "    echo $path/$i\n",
    "# concatenate file\n",
    "    zcat $path/${i}_S*_R1_001.fastq.gz > $path/${i}_C000_R1_001.fastq\n",
    "    zcat $path/${i}_S*_R2_001.fastq.gz > $path/${i}_C000_R2_001.fastq\n",
    "    gzip $path/${i}_C000_R1_001.fastq\n",
    "    gzip $path/${i}_C000_R2_001.fastq\n",
    "done"
   ]
  },
  {
   "cell_type": "markdown",
   "metadata": {},
   "source": [
    "### Quality trim with fastp"
   ]
  },
  {
   "cell_type": "markdown",
   "metadata": {},
   "source": [
    "note: fastp by default will remove polyG tails from Novaseq artifacts, as well as adapters and quality below Q15"
   ]
  },
  {
   "cell_type": "code",
   "execution_count": null,
   "metadata": {
    "vscode": {
     "languageId": "shellscript"
    }
   },
   "outputs": [],
   "source": [
    "#!/bin/bash\n",
    "\n",
    "# run 1\n",
    "\n",
    "# load software\n",
    "module load miniconda3\n",
    "conda activate fastp_0.23.2\n",
    "\n",
    "# set directories\n",
    "READS_DIR=\"/srv/projects/microbial_inducers/data/20220921_metagenome_data\"\n",
    "TRIMMED_DIR=\"/srv/projects/microbial_inducers/data/20221010_metagenome_data_trimmed\"\n",
    "RESULTS_DIR=\"/srv/projects/microbial_inducers/analysis/biofilm_metagenome/01_qc_reads/03_fastp_trimming\"\n",
    "\n",
    "mkdir $TRIMMED_DIR\n",
    "\n",
    "# run fastp\n",
    "for FILE in $(ls $READS_DIR/*R1*.fastq.gz); do\n",
    "# set variables \n",
    "    SAMPLE=$(basename $FILE | cut -d \"_\" -f 1)\n",
    "    echo \"trimming sample: $SAMPLE\"\n",
    "# quality trim\n",
    "    fastp \\\n",
    "    --in1 $READS_DIR/${SAMPLE}_*_R1_*.fastq.gz \\\n",
    "    --in2 $READS_DIR/${SAMPLE}_*_R2_*.fastq.gz \\\n",
    "    --out1 $TRIMMED_DIR/${SAMPLE}_trimmed_R1.fastq.gz \\\n",
    "    --out2 $TRIMMED_DIR/${SAMPLE}_trimmed_R2.fastq.gz \\\n",
    "    -f 15 \\\n",
    "    -F 15 \\\n",
    "    -w 16 \\\n",
    "    -h $RESULTS_DIR/${SAMPLE}.html &> $RESULTS_DIR/${SAMPLE}.log\n",
    "done\n"
   ]
  },
  {
   "cell_type": "code",
   "execution_count": null,
   "metadata": {
    "vscode": {
     "languageId": "shellscript"
    }
   },
   "outputs": [],
   "source": [
    "#!/bin/bash\n",
    "\n",
    "# run 2\n",
    "\n",
    "# load software\n",
    "module load miniconda3\n",
    "conda activate fastp_0.23.2\n",
    "\n",
    "# set directories\n",
    "READS_DIR=\"/srv/projects/microbial_inducers/data/20221105_metageome_data_2\"\n",
    "TRIMMED_DIR=\"/srv/projects/microbial_inducers/data/20221206_metagenome_data_2_trimmed\"\n",
    "RESULTS_DIR=\"/srv/projects/microbial_inducers/analysis/biofilm_metagenome/01_qc_reads/03_fastp_trimming/run2\"\n",
    "\n",
    "mkdir $TRIMMED_DIR\n",
    "\n",
    "# run fastp\n",
    "for FILE in $(ls $READS_DIR/*R1*.fastq.gz); do\n",
    "# Set variables. \n",
    "    SAMPLE=$(basename $FILE | cut -d \"_\" -f 1)\n",
    "    echo \"trimming sample: $SAMPLE\"\n",
    "# quality trim\n",
    "    fastp \\\n",
    "    --in1 $READS_DIR/${SAMPLE}_*_R1_*.fastq.gz \\\n",
    "    --in2 $READS_DIR/${SAMPLE}_*_R2_*.fastq.gz \\\n",
    "    --out1 $TRIMMED_DIR/${SAMPLE}_trimmed_R1.fastq.gz \\\n",
    "    --out2 $TRIMMED_DIR/${SAMPLE}_trimmed_R2.fastq.gz \\\n",
    "    -f 15 \\\n",
    "    -F 15 \\\n",
    "    -w 16 \\\n",
    "    -h $RESULTS_DIR/${SAMPLE}.html &> $RESULTS_DIR/${SAMPLE}.log\n",
    "done\n"
   ]
  },
  {
   "cell_type": "code",
   "execution_count": null,
   "metadata": {
    "vscode": {
     "languageId": "shellscript"
    }
   },
   "outputs": [],
   "source": [
    "#!/bin/bash\n",
    "\n",
    "# run 2 - repeats merged\n",
    "\n",
    "# load software\n",
    "module load miniconda3\n",
    "conda activate fastp_0.23.2\n",
    "\n",
    "# set directories\n",
    "READS_DIR=\"/srv/projects/microbial_inducers/data/20221105_metageome_data_2\"\n",
    "TRIMMED_DIR=\"/srv/projects/microbial_inducers/data/20221206_metagenome_data_2_trimmed\"\n",
    "RESULTS_DIR=\"/srv/projects/microbial_inducers/analysis/biofilm_metagenome/01_qc_reads/03_fastp_trimming/run2\"\n",
    "\n",
    "#mkdir $TRIMMED_DIR\n",
    "\n",
    "# run fastp\n",
    "for FILE in $(ls $READS_DIR/*_C000_R1*.fastq.gz); do\n",
    "# Set variables. \n",
    "    SAMPLE=$(basename $FILE | cut -d \"_\" -f 1)\n",
    "    echo \"trimming sample: $SAMPLE\"\n",
    "# quality trim\n",
    "    fastp \\\n",
    "    --in1 $READS_DIR/${SAMPLE}_R1_*.fastq.gz \\\n",
    "    --in2 $READS_DIR/${SAMPLE}_R2_*.fastq.gz \\\n",
    "    --out1 $TRIMMED_DIR/${SAMPLE}_trimmedc000_R1.fastq.gz \\\n",
    "    --out2 $TRIMMED_DIR/${SAMPLE}_trimmedc000_R2.fastq.gz \\\n",
    "    -f 15 \\\n",
    "    -F 15 \\\n",
    "    -w 16 \\\n",
    "    -h $RESULTS_DIR/${SAMPLE}.html &> $RESULTS_DIR/${SAMPLE}.log\n",
    "done\n"
   ]
  }
 ],
 "metadata": {
  "kernelspec": {
   "display_name": "Bash",
   "language": "bash",
   "name": "bash"
  },
  "language_info": {
   "codemirror_mode": "shell",
   "file_extension": ".sh",
   "mimetype": "text/x-sh",
   "name": "bash"
  }
 },
 "nbformat": 4,
 "nbformat_minor": 4
}
