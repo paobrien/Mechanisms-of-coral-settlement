{
 "cells": [
  {
   "cell_type": "markdown",
   "metadata": {},
   "source": [
    "# Check assembly quality"
   ]
  },
  {
   "cell_type": "markdown",
   "metadata": {},
   "source": [
    "### Map reads to assemblies to check proportion assembled"
   ]
  },
  {
   "cell_type": "markdown",
   "metadata": {},
   "source": [
    "note: results are for each sample back to each individual assembly"
   ]
  },
  {
   "cell_type": "code",
   "execution_count": null,
   "metadata": {},
   "outputs": [],
   "source": [
    "#!/bin/bash\n",
    "\n",
    "# load software\n",
    "module load miniconda3\n",
    "conda activate coverm_0.6.1\n",
    "\n",
    "# set directories\n",
    "SCAFFOLDS_DIR=\"/srv/projects/microbial_inducers/analysis/biofilm_metagenome/03_assembly/all_scaffolds\"\n",
    "READS_DIR=\"/srv/projects/microbial_inducers/data/all_reads_trimmed\"\n",
    "OUTPUT_DIR=\"/srv/projects/microbial_inducers/analysis/biofilm_metagenome/05_coverm/assemblies\"\n",
    "\n",
    "# get % reads mapped to assemblies\n",
    "for FILE in $(ls $SCAFFOLDS_DIR/*fasta); do\n",
    "    echo \"file is $FILE\"\n",
    "    SAMPLE=$(basename $FILE | cut -d '_' -f 1)\n",
    "    echo \"sample is $SAMPLE\"\n",
    "# run coverm\n",
    "    coverm genome \\\n",
    "    -c $READS_DIR/$SAMPLE*.fastq.gz \\\n",
    "    -f $FILE \\\n",
    "    -x fasta \\\n",
    "    -t 30 \\\n",
    "    -p minimap2-sr \\\n",
    "    -m relative_abundance \\\n",
    "    --min-read-aligned-percent 0.75 \\\n",
    "    --min-read-percent-identity 0.95 \\\n",
    "    --output-file $OUTPUT_DIR/${SAMPLE}_coverm_contig.out \\\n",
    "    --output-format dense\n",
    "done"
   ]
  },
  {
   "cell_type": "markdown",
   "metadata": {},
   "source": [
    "### Check proportion of single copy marker genes in assembly"
   ]
  },
  {
   "cell_type": "code",
   "execution_count": null,
   "metadata": {},
   "outputs": [],
   "source": [
    "#!/bin/bash\n",
    "\n",
    "# load software\n",
    "module load miniconda3/1.1\n",
    "conda activate singlem\n",
    "\n",
    "# using trimmed reads (still sufficient length for singleM)\n",
    "READS_DIR=\"/srv/projects/microbial_inducers/data/all_reads_trimmed\"\n",
    "ASSEMBLY_DIR=\"/srv/projects/microbial_inducers/analysis/biofilm_metagenome/03_assembly/all_scaffolds\"\n",
    "SINGLEM_DIR=\"/srv/projects/microbial_inducers/analysis/biofilm_metagenome/02_singlem/all_samples\"\n",
    "\n",
    "mkdir -p $SINGLEM_DIR\n",
    "\n",
    "THREADS=20\n",
    "METAPACKAGE=\"/srv/db/singlem_packages/S3.metapackage_20220906.smpkg\"\n",
    "\n",
    "# get single copy markers from assemblies\n",
    "singlem pipe \\\n",
    "--metapackage $METAPACKAGE \\\n",
    "--genome-fasta-files $ASSEMBLY_DIR/*.fasta \\\n",
    "--otu-table $SINGLEM_DIR/assembly.otu_table.tsv \\\n",
    "--threads $THREADS\n",
    "\n",
    "# compare against reads\n",
    "singlem appraise \\\n",
    "--metagenome-otu-tables $SINGLEM_DIR/metagenome.otu_table.tsv \\\n",
    "--assembly-otu-tables $SINGLEM_DIR/assembly.otu_table.tsv \\\n",
    "#--genome-otu-tables $SINGLEM_DIR/bins.otu_table.tsv \\\n",
    "#--plot $SINGLEM_DIR/singlem_appraise.svg \\\n",
    "#--output-assembled-otu-table $SINGLEM_DIR/assembled.otu_table.tsv \\\n",
    "&> $SINGLEM_DIR/assembly_appraisal.log\n"
   ]
  }
 ],
 "metadata": {
  "kernelspec": {
   "display_name": "Bash",
   "language": "bash",
   "name": "bash"
  },
  "language_info": {
   "codemirror_mode": "shell",
   "file_extension": ".sh",
   "mimetype": "text/x-sh",
   "name": "bash"
  }
 },
 "nbformat": 4,
 "nbformat_minor": 4
}
