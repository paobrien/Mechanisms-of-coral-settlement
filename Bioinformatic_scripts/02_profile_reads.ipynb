{
 "cells": [
  {
   "cell_type": "markdown",
   "metadata": {},
   "source": [
    "# Taxonomic profiling of reads"
   ]
  },
  {
   "cell_type": "markdown",
   "metadata": {},
   "source": [
    "##### Use singleM to get a taxonomic profile of raw reads. Note: singleM suggests to use untrimmed reads to keep sequence length. However, using trimmed reads since only ~15bp removed (sequencing noise)"
   ]
  },
  {
   "cell_type": "markdown",
   "metadata": {},
   "source": [
    "### Symlink reads from both runs to new directory"
   ]
  },
  {
   "cell_type": "code",
   "execution_count": null,
   "metadata": {},
   "outputs": [],
   "source": [
    "# run 1\n",
    "data_dir=\"/srv/projects/microbial_inducers/data/\"\n",
    "\n",
    "for FILE in $(ls $data_dir/20221010_metagenome_data_trimmed/*.fastq.gz); do\n",
    "    echo $FILE\n",
    "    ln -s $FILE $data_dir/all_reads_trimmed\n",
    "done\n",
    "\n",
    "# run2\n",
    "for FILE in $(ls $data_dir/20221206_metagenome_data_2_trimmed/*.fastq.gz); do\n",
    "    echo $FILE\n",
    "    ln -s $FILE $data_dir/all_reads_trimmed\n",
    "done"
   ]
  },
  {
   "cell_type": "markdown",
   "metadata": {},
   "source": [
    "#### Remove unconcatenated repeat files"
   ]
  },
  {
   "cell_type": "code",
   "execution_count": null,
   "metadata": {},
   "outputs": [],
   "source": [
    "data_dir=\"/srv/projects/microbial_inducers/data/all_reads_trimmed\"\n",
    "\n",
    "for FILE in $(ls $data_dir/*c000_R1.fastq.gz); do\n",
    "    echo $FILE\n",
    "    ID=$(basename $FILE | cut -d '_' -f 1)\n",
    "    echo $ID\n",
    "    rm $data_dir/${ID}_trimmed_R1.fastq.gz\n",
    "    rm $data_dir/${ID}_trimmed_R2.fastq.gz\n",
    "done"
   ]
  },
  {
   "cell_type": "markdown",
   "metadata": {},
   "source": [
    "### Run singleM"
   ]
  },
  {
   "cell_type": "code",
   "execution_count": null,
   "metadata": {},
   "outputs": [],
   "source": [
    "#!/bin/bash\n",
    "\n",
    "# load software\n",
    "module load miniconda3/1.1\n",
    "conda activate singlem\n",
    "\n",
    "# set directories\n",
    "READS_DIR=\"/srv/projects/microbial_inducers/data/all_reads_trimmed\"\n",
    "SINGLEM_DIR=\"/srv/projects/microbial_inducers/analysis/biofilm_metagenome/02_singlem\"\n",
    "\n",
    "# set variables\n",
    "THREADS=20\n",
    "METAPACKAGE=\"/srv/db/singlem_packages/S3.metapackage_20220906.smpkg\"\n",
    "\n",
    "\n",
    "# generate OTU table using forward and reverse reads for all samples\n",
    "# note: --archive-otu-table needed as input for condense command\n",
    "singlem pipe \\\n",
    "--singlem-metapackage $METAPACKAGE \\\n",
    "--forward $READS_DIR/*R1.fastq.gz \\\n",
    "--reverse $READS_DIR/*R2.fastq.gz \\\n",
    "--otu-table $SINGLEM_DIR/all_samples/metagenome.otu_table.tsv \\\n",
    "--archive-otu-table $SINGLEM_DIR/all_samples/archive.otu_table.tsv \\\n",
    "--threads $THREADS \\\n",
    "--assignment-threads $THREADS\n",
    "\n",
    "# combine OTU tables across multiple markers into a single OTU table.\n",
    "singlem condense \\\n",
    "--singlem-metapackage $METAPACKAGE \\\n",
    "--input-archive-otu-tables $SINGLEM_DIR/all_samples/archive.otu_table.tsv \\\n",
    "--output-otu-table $SINGLEM_DIR/all_samples/metagenome_condensed.tsv \\\n",
    "--krona $SINGLEM_DIR/metagenome_krona\n"
   ]
  }
 ],
 "metadata": {
  "kernelspec": {
   "display_name": "Bash",
   "language": "bash",
   "name": "bash"
  },
  "language_info": {
   "codemirror_mode": "shell",
   "file_extension": ".sh",
   "mimetype": "text/x-sh",
   "name": "bash"
  }
 },
 "nbformat": 4,
 "nbformat_minor": 4
}
