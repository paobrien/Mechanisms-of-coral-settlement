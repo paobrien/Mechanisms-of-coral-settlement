{
 "cells": [
  {
   "cell_type": "markdown",
   "metadata": {},
   "source": [
    "# Assemble metagenome using MetaSpades "
   ]
  },
  {
   "cell_type": "markdown",
   "metadata": {},
   "source": [
    "#### Symlink samples to new directory"
   ]
  },
  {
   "cell_type": "code",
   "execution_count": null,
   "metadata": {},
   "outputs": [],
   "source": [
    "# Psin samples\n",
    "\n",
    "READS_DIR=\"/srv/projects/microbial_inducers/data/20221206_metagenome_data_2_trimmed\"\n",
    "LINK_DIR=\"/srv/projects/microbial_inducers/data/psin_to_assemble2\"\n",
    "\n",
    "mkdir $LINK_DIR\n",
    "\n",
    "for FILE in $(ls $READS_DIR/{SE6798,SE6801,SE6803,SE6805,SE6808,SE6810,SE6811,SE6813,SE6816}*.fastq.gz); do\n",
    "    echo $FILE\n",
    "    ln -s $FILE $LINK_DIR\n",
    "done"
   ]
  },
  {
   "cell_type": "code",
   "execution_count": null,
   "metadata": {},
   "outputs": [],
   "source": [
    "# Dfav\n",
    "\n",
    "READS_DIR=\"/srv/projects/microbial_inducers/data/20221206_metagenome_data_2_trimmed\"\n",
    "LINK_DIR=\"/srv/projects/microbial_inducers/data/dfav_to_assemble2\"\n",
    "\n",
    "mkdir $LINK_DIR\n",
    "\n",
    "for FILE in $(ls $READS_DIR/{SE6768,SE6771,SE6773,SE6776,SE6778,SE6783,SE6784}*.fastq.gz); do\n",
    "    echo $FILE\n",
    "    ln -s $FILE $LINK_DIR\n",
    "done"
   ]
  },
  {
   "cell_type": "code",
   "execution_count": null,
   "metadata": {},
   "outputs": [],
   "source": [
    "# Plob\n",
    "\n",
    "READS_DIR=\"/srv/projects/microbial_inducers/data/20221206_metagenome_data_2_trimmed\"\n",
    "LINK_DIR=\"/srv/projects/microbial_inducers/data/plob_to_assemble2\"\n",
    "\n",
    "mkdir $LINK_DIR\n",
    "\n",
    "for FILE in $(ls $READS_DIR/{SE6788,SE6792,SE6793,SE6820,SE6822,SE6825,SE6828,SE6829}*.fastq.gz); do\n",
    "    echo $FILE\n",
    "    ln -s $FILE $LINK_DIR\n",
    "done"
   ]
  },
  {
   "cell_type": "code",
   "execution_count": null,
   "metadata": {},
   "outputs": [],
   "source": [
    "# Easp\n",
    "\n",
    "READS_DIR=\"/srv/projects/microbial_inducers/data/20221206_metagenome_data_2_trimmed\"\n",
    "LINK_DIR=\"/srv/projects/microbial_inducers/data/easp_to_assemble2\"\n",
    "\n",
    "mkdir $LINK_DIR\n",
    "\n",
    "for FILE in $(ls $READS_DIR/{SE6833,SE6834,SE6836,SE6838,SE6840,SE6842,SE6844,SE6847}*.fastq.gz); do\n",
    "    echo $FILE\n",
    "    ln -s $FILE $LINK_DIR\n",
    "done"
   ]
  },
  {
   "cell_type": "code",
   "execution_count": null,
   "metadata": {},
   "outputs": [],
   "source": [
    "# Dark biofilms\n",
    "\n",
    "READS_DIR=\"/srv/projects/microbial_inducers/data/20221206_metagenome_data_2_trimmed\"\n",
    "LINK_DIR=\"/srv/projects/microbial_inducers/data/dark_to_assemble\"\n",
    "\n",
    "mkdir $LINK_DIR\n",
    "\n",
    "for FILE in $(ls $READS_DIR/{SE6850,SE6851,SE6853,SE6856,SE6858,SE6860,SE6863,SE6864,SE6867}*.fastq.gz); do\n",
    "    echo $FILE\n",
    "    ln -s $FILE $LINK_DIR\n",
    "done"
   ]
  },
  {
   "cell_type": "markdown",
   "metadata": {},
   "source": [
    "### Assemble metagenomes - sequencing run2"
   ]
  },
  {
   "cell_type": "markdown",
   "metadata": {},
   "source": [
    "#### Psin samples"
   ]
  },
  {
   "cell_type": "code",
   "execution_count": null,
   "metadata": {},
   "outputs": [],
   "source": [
    "#!/bin/bash\n",
    "\n",
    "# load software\n",
    "module load miniconda3\n",
    "conda activate spades_3.15.3\n",
    "\n",
    "# set directories\n",
    "READS_DIR=\"/srv/projects/microbial_inducers/data/psin_to_assemble2\"\n",
    "OUT_DIR=\"/srv/projects/microbial_inducers/analysis/biofilm_metagenome/03_assembly/psin/run2\"\n",
    "\n",
    "for FILE in $(ls $READS_DIR/*R1.fastq.gz); do\n",
    "    echo $FILE\n",
    "    SAMPLE=$(basename $FILE | cut -d \"_\" -f 1)\n",
    "    echo $SAMPLE\n",
    "# run metaspades\n",
    "    time metaspades.py \\\n",
    "    -1 $READS_DIR/${SAMPLE}_trimmed_R1.fastq.gz \\\n",
    "    -2 $READS_DIR/${SAMPLE}_trimmed_R2.fastq.gz \\\n",
    "    -o $OUT_DIR/${SAMPLE} \\\n",
    "    -t 20 -m 500\n",
    "done\n"
   ]
  },
  {
   "cell_type": "markdown",
   "metadata": {},
   "source": [
    "#### Dfav"
   ]
  },
  {
   "cell_type": "code",
   "execution_count": null,
   "metadata": {},
   "outputs": [],
   "source": [
    "#!/bin/bash\n",
    "\n",
    "# load software\n",
    "module load miniconda3\n",
    "conda activate spades_3.15.3\n",
    "\n",
    "# set directories\n",
    "READS_DIR=\"/srv/projects/microbial_inducers/data/dfav_to_assemble2\"\n",
    "OUT_DIR=\"/srv/projects/microbial_inducers/analysis/biofilm_metagenome/03_assembly/dfav/run2\"\n",
    "\n",
    "for FILE in $(ls $READS_DIR/*R1.fastq.gz); do\n",
    "    echo $FILE\n",
    "    SAMPLE=$(basename $FILE | cut -d \"_\" -f 1)\n",
    "    echo $SAMPLE\n",
    "# run metaspades\n",
    "    time metaspades.py \\\n",
    "    -1 $READS_DIR/${SAMPLE}_trimmed_R1.fastq.gz \\\n",
    "    -2 $READS_DIR/${SAMPLE}_trimmed_R2.fastq.gz \\\n",
    "    -o $OUT_DIR/${SAMPLE} \\\n",
    "    -t 20 -m 500\n",
    "done\n"
   ]
  },
  {
   "cell_type": "markdown",
   "metadata": {},
   "source": [
    "#### Plob"
   ]
  },
  {
   "cell_type": "code",
   "execution_count": null,
   "metadata": {},
   "outputs": [],
   "source": [
    "#!/bin/bash\n",
    "\n",
    "# load software\n",
    "module load miniconda3\n",
    "conda activate spades_3.15.3\n",
    "\n",
    "# set directories\n",
    "READS_DIR=\"/srv/projects/microbial_inducers/data/plob_to_assemble2\"\n",
    "OUT_DIR=\"/srv/projects/microbial_inducers/analysis/biofilm_metagenome/03_assembly/plob/run2\"\n",
    "\n",
    "for FILE in $(ls $READS_DIR/*R1.fastq.gz); do\n",
    "    echo $FILE\n",
    "    SAMPLE=$(basename $FILE | cut -d \"_\" -f 1)\n",
    "    echo $SAMPLE\n",
    "# run metaspades\n",
    "    time metaspades.py \\\n",
    "    -1 $READS_DIR/${SAMPLE}_trimmed_R1.fastq.gz \\\n",
    "    -2 $READS_DIR/${SAMPLE}_trimmed_R2.fastq.gz \\\n",
    "    -o $OUT_DIR/${SAMPLE} \\\n",
    "    -t 20 -m 500\n",
    "done\n"
   ]
  },
  {
   "cell_type": "markdown",
   "metadata": {},
   "source": [
    "#### Easp"
   ]
  },
  {
   "cell_type": "code",
   "execution_count": null,
   "metadata": {},
   "outputs": [],
   "source": [
    "#!/bin/bash\n",
    "\n",
    "# load software\n",
    "module load miniconda3\n",
    "conda activate spades_3.15.3\n",
    "\n",
    "# set directories\n",
    "READS_DIR=\"/srv/projects/microbial_inducers/data/easp_to_assemble2\"\n",
    "OUT_DIR=\"/srv/projects/microbial_inducers/analysis/biofilm_metagenome/03_assembly/easp/run2\"\n",
    "\n",
    "for FILE in $(ls $READS_DIR/*R1.fastq.gz); do\n",
    "    echo $FILE\n",
    "    SAMPLE=$(basename $FILE | cut -d \"_\" -f 1)\n",
    "    echo $SAMPLE\n",
    "# run metaspades\n",
    "    time metaspades.py \\\n",
    "    -1 $READS_DIR/${SAMPLE}_trimmed_R1.fastq.gz \\\n",
    "    -2 $READS_DIR/${SAMPLE}_trimmed_R2.fastq.gz \\\n",
    "    -o $OUT_DIR/${SAMPLE} \\\n",
    "    -t 20 -m 500\n",
    "done\n"
   ]
  },
  {
   "cell_type": "markdown",
   "metadata": {},
   "source": [
    "#### Dark"
   ]
  },
  {
   "cell_type": "code",
   "execution_count": null,
   "metadata": {},
   "outputs": [],
   "source": [
    "#!/bin/bash\n",
    "\n",
    "# load software\n",
    "module load miniconda3\n",
    "conda activate spades_3.15.3\n",
    "\n",
    "# set directories\n",
    "READS_DIR=\"/srv/projects/microbial_inducers/data/dark_to_assemble\"\n",
    "OUT_DIR=\"/srv/projects/microbial_inducers/analysis/biofilm_metagenome/03_assembly/dark\"\n",
    "\n",
    "for FILE in $(ls $READS_DIR/*R1.fastq.gz); do\n",
    "    echo $FILE\n",
    "    SAMPLE=$(basename $FILE | cut -d \"_\" -f 1)\n",
    "    echo $SAMPLE\n",
    "# run metaspades\n",
    "    time metaspades.py \\\n",
    "    -1 $READS_DIR/${SAMPLE}_trimmed_R1.fastq.gz \\\n",
    "    -2 $READS_DIR/${SAMPLE}_trimmed_R2.fastq.gz \\\n",
    "    -o $OUT_DIR/${SAMPLE} \\\n",
    "    -t 20 -m 500\n",
    "done\n"
   ]
  },
  {
   "cell_type": "markdown",
   "metadata": {},
   "source": [
    "### Consolidate scaffolds and compress assembly files"
   ]
  },
  {
   "cell_type": "code",
   "execution_count": null,
   "metadata": {},
   "outputs": [],
   "source": [
    "for DIR in $(ls | grep -v \"tar\"); do\n",
    "    echo $DIR\n",
    "# get file\n",
    "    ls $DIR/scaffolds.fasta\n",
    "    ls $DIR/spades.log\n",
    "# mv file\n",
    "    cp $DIR/scaffolds.fasta ../../all_scaffolds/${DIR}_scaffolds.fasta\n",
    "    cp $DIR/spades.log ../../all_logs/${DIR}_spades.log\n",
    "done\n",
    "\n",
    "# compress\n",
    "for DIR in $(ls | grep -v \"tar\"); do\n",
    "    echo \"compressing $DIR\"\n",
    "    tar -zcvf ${DIR}.tar.gz $DIR --remove-files $DIR\n",
    "done\n"
   ]
  },
  {
   "cell_type": "markdown",
   "metadata": {},
   "source": [
    "For darks"
   ]
  },
  {
   "cell_type": "code",
   "execution_count": null,
   "metadata": {},
   "outputs": [],
   "source": [
    "for DIR in $(ls | grep -v \"tar\"); do\n",
    "    echo $DIR\n",
    "# get file\n",
    "    ls $DIR/scaffolds.fasta\n",
    "    ls $DIR/spades.log\n",
    "# mv file\n",
    "    cp $DIR/scaffolds.fasta ../all_scaffolds/${DIR}_scaffolds.fasta\n",
    "    cp $DIR/spades.log ../all_logs/${DIR}_spades.log\n",
    "done\n",
    "\n",
    "# compress\n",
    "for DIR in $(ls | grep -v \"tar\"); do\n",
    "    echo \"compressing $DIR\"\n",
    "    tar -zcvf ${DIR}.tar.gz $DIR --remove-files $DIR\n",
    "done\n"
   ]
  }
 ],
 "metadata": {
  "kernelspec": {
   "display_name": "Bash",
   "language": "bash",
   "name": "bash"
  },
  "language_info": {
   "codemirror_mode": "shell",
   "file_extension": ".sh",
   "mimetype": "text/x-sh",
   "name": "bash"
  }
 },
 "nbformat": 4,
 "nbformat_minor": 4
}
