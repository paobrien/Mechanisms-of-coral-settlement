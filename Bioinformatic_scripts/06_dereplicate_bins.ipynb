{
 "cells": [
  {
   "cell_type": "markdown",
   "metadata": {},
   "source": [
    "# Consolidate and dereplicate bins from multiple samples"
   ]
  },
  {
   "cell_type": "markdown",
   "metadata": {},
   "source": [
    "### Consolodate bins from sample replicates"
   ]
  },
  {
   "cell_type": "code",
   "execution_count": null,
   "metadata": {},
   "outputs": [],
   "source": [
    "#!/bin/bash\n",
    "\n",
    "# sym link and rename bins to one directory\n",
    "\n",
    "AVIARY_DIR=\"/srv/projects/microbial_inducers/analysis/biofilm_metagenome/04_binnning\"\n",
    "LINK_DIR=\"/srv/projects/microbial_inducers/analysis/biofilm_metagenome/04_binnning/all_bins\"\n",
    "\n",
    "mkdir $LINK_DIR\n",
    "\n",
    "for sample_dir in $(ls $AVIARY_DIR | grep -E -v 'all_bins|_test|logs'); do\n",
    "    echo $sample_dir\n",
    "    if [[ -d $AVIARY_DIR/$sample_dir ]]; then\n",
    "        for bin_file in $(ls $AVIARY_DIR/$sample_dir/bins/final_bins/*.fna); do\n",
    "            echo $bin_file\n",
    "            bin_file_basename=$(basename $bin_file .fna | sed \"s/.tsv//; s/_bins//\")\n",
    "            echo $bin_file_basename\n",
    "            sample_out_name=$(echo ${sample_dir}.${bin_file_basename})\n",
    "            echo $sample_out_name\n",
    "            ln -s $bin_file $LINK_DIR/${sample_out_name}.fna\n",
    "        done\n",
    "    fi\n",
    "done\n"
   ]
  },
  {
   "cell_type": "markdown",
   "metadata": {},
   "source": [
    "## Dereplicate bins"
   ]
  },
  {
   "cell_type": "code",
   "execution_count": null,
   "metadata": {},
   "outputs": [],
   "source": [
    "#!/bin/bash\n",
    "\n",
    "# Dereplicate genomes at 95ANI using coverm\n",
    "\n",
    "# load software\n",
    "module load miniconda3\n",
    "conda activate checkm-genome-1.1.3\n",
    "\n",
    "GENOME_DIR=\"/srv/projects/microbial_inducers/analysis/biofilm_metagenome/04_binnning/all_bins\"\n",
    "CHECKM_DIR=\"/srv/projects/microbial_inducers/analysis/biofilm_metagenome/06_checkm\"\n",
    "DEREP_DIR=\"/srv/projects/microbial_inducers/analysis/biofilm_metagenome/04_binnning/dereplicated_bins_95\"\n",
    "\n",
    "## first need checkm results ##\n",
    "\n",
    "# get checkm quality\n",
    "checkm lineage_wf \\\n",
    "$GENOME_DIR $CHECKM_DIR -x fna -t 32\n",
    "\n",
    "# Create checkm file\n",
    "# Note: for use in coverm cluster (dereplication), need short checkm output\n",
    "# short = 1, long = 2\n",
    "\n",
    "checkm qa \\\n",
    "$CHECKM_DIR/lineage.ms $CHECKM_DIR -o 1 -f $CHECKM_DIR/all_bins.tsv --tab_table -t 1\n",
    "\n",
    "## dereplicate bins ##\n",
    "\n",
    "# load software\n",
    "conda activate coverm_0.6.1\n",
    "\n",
    "# dereplicate with coverm\n",
    "coverm cluster \\\n",
    "--genome-fasta-directory $GENOME_DIR \\\n",
    "-x fna \\\n",
    "--ani 95 \\\n",
    "--checkm-tab-table $CHECKM_DIR/all_bins.tsv \\\n",
    "--output-representative-fasta-directory $DEREP_DIR \\\n",
    "--precluster-method finch \\\n",
    "--min-completeness 50 \\\n",
    "--max-contamination 10 \\\n",
    "-t 32\n"
   ]
  }
 ],
 "metadata": {
  "kernelspec": {
   "display_name": "Bash",
   "language": "bash",
   "name": "bash"
  },
  "language_info": {
   "codemirror_mode": "shell",
   "file_extension": ".sh",
   "mimetype": "text/x-sh",
   "name": "bash"
  }
 },
 "nbformat": 4,
 "nbformat_minor": 4
}
