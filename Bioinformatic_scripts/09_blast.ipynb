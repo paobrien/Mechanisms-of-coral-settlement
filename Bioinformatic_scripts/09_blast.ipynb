{
 "cells": [
  {
   "cell_type": "markdown",
   "metadata": {},
   "source": [
    "# Blast gene sequences to MAGs "
   ]
  },
  {
   "cell_type": "markdown",
   "metadata": {},
   "source": [
    "##### Note: make a database of assemblies and MAGs, since sequences may not have been binned"
   ]
  },
  {
   "cell_type": "code",
   "execution_count": null,
   "metadata": {
    "vscode": {
     "languageId": "shellscript"
    }
   },
   "outputs": [],
   "source": [
    "#!/bin bash\n",
    "\n",
    "# load software\n",
    "module load miniconda3\n",
    "conda activate blast_2.12.0 \n",
    "\n",
    "MAG_DIR=\"/srv/projects/microbial_inducers/analysis/biofilm_metagenome/04_binnning/dereplicated_bins_95\"\n",
    "ASSEMBLY_DIR=\"/srv/projects/microbial_inducers/analysis/biofilm_metagenome/03_assembly/all_scaffolds\"\n",
    "OUT_DIR=\"/srv/projects/microbial_inducers/analysis/biofilm_metagenome/09_blast/blast_db\"\n",
    "\n",
    "## make blast database \n",
    "\n",
    "# copy MAGS to new directory and append MAG name to contigs\n",
    "for FILE in $(ls $MAG_DIR/*.fna); do\n",
    "    # get file name\n",
    "    NAME=$(basename -s .fna $FILE)\n",
    "    echo \"file name is $NAME\"\n",
    "   # copy file to out dir and append contig names\n",
    "    cp $FILE $OUT_DIR\n",
    "    sed -i -e \"s/^>/>${NAME}_/\" $OUT_DIR/${NAME}.fna\n",
    "done\n",
    "\n",
    "# concatenate to one file\n",
    "cat $OUT_DIR/*.fna > $OUT_DIR/all_mags.fasta\n",
    "\n",
    "# remove copied mags\n",
    "for FILE in $(ls $OUT_DIR/*.fna); do\n",
    "    echo $FILE\n",
    "    rm $FILE\n",
    "done\n",
    "\n",
    "# make MAG database\n",
    "makeblastdb \\\n",
    "    -in $OUT_DIR/all_mags.fasta \\\n",
    "    -dbtype nucl \\\n",
    "    -out $OUT_DIR/all_mags_db\n",
    "\n",
    "\n",
    "## create assembly database\n",
    "\n",
    "# concatenate to one file\n",
    "cat $ASSEMBLY_DIR/*.fasta > $OUT_DIR/all_scaffolds.fasta\n",
    "\n",
    "# make scaffold database\n",
    "makeblastdb \\\n",
    "    -in $OUT_DIR/all_scaffolds.fasta \\\n",
    "    -dbtype nucl \\\n",
    "    -out $OUT_DIR/all_scaffolds_db"
   ]
  },
  {
   "cell_type": "markdown",
   "metadata": {},
   "source": [
    "## Run blast on TBP biosynthesis genes"
   ]
  },
  {
   "cell_type": "markdown",
   "metadata": {},
   "source": [
    "Using tblastx as per Alker et al. 2020 - use translated proteins rather than nucleotides\n",
    "\n",
    "Considers all possible codon translations, accounting for the possibility of different reading frames and possible frameshifts."
   ]
  },
  {
   "cell_type": "code",
   "execution_count": null,
   "metadata": {
    "vscode": {
     "languageId": "shellscript"
    }
   },
   "outputs": [],
   "source": [
    "#!/bin bash\n",
    "\n",
    "# run blast\n",
    "\n",
    "# load software\n",
    "module load miniconda3\n",
    "conda activate blast_2.12.0 \n",
    "\n",
    "DB_DIR=\"/srv/projects/microbial_inducers/analysis/biofilm_metagenome/09_blast/blast_db\"\n",
    "OUT_DIR=\"/srv/projects/microbial_inducers/analysis/biofilm_metagenome/09_blast/blast_results/tbp_biosynthesis\"\n",
    "DATA_DIR=\"/srv/projects/microbial_inducers/data/ncbi\"\n",
    "\n",
    "# blast to MAG database\n",
    "tblastx \\\n",
    "-query $DATA_DIR/pseudoalteromonas_bmp_genes.txt \\\n",
    "-db $DB_DIR/all_mags/all_mags_db \\\n",
    "-out $OUT_DIR/tblastx_results_tbp_to_mags.txt \\\n",
    "-outfmt 6\n",
    "\n",
    "# blast to scaffold database\n",
    "tblastx \\\n",
    "-query $DATA_DIR/pseudoalteromonas_bmp_genes.txt \\\n",
    "-db $DB_DIR/all_scaffolds/all_scaffolds_db \\\n",
    "-out $OUT_DIR/tblastx_results_tbp_to_scaffolds.txt \\\n",
    "-outfmt 6\n",
    "\n",
    "conda deactivate"
   ]
  },
  {
   "cell_type": "markdown",
   "metadata": {},
   "source": [
    "### Find which genomes have a signficant match to TBP genes"
   ]
  },
  {
   "cell_type": "code",
   "execution_count": null,
   "metadata": {
    "vscode": {
     "languageId": "shellscript"
    }
   },
   "outputs": [],
   "source": [
    "# output significant results, in this case percent identity > 30, aligment >100, e-value < 1e-03, bit score >50\n",
    "# based on Pearson 2013\n",
    "\n",
    "# get significant results\n",
    "awk '$3 > 30 && $4 > 100 && $11 < 1e-03 && $12 > 50 {print}' tblastx_results_tbp_to_mags.txt | \\\n",
    "sort -k 12,12nr > tblastx_significant_results_tbp_to_mags_e03-100.txt\n",
    "\n",
    "# get unique gene/MAG matches\n",
    "awk '{print $1, $2}' tblastx_significant_results_tbp_to_mags_e03-100.txt | sort | uniq > tblastx_unique_matches_tbp_to_mags_e03-100.txt\n"
   ]
  },
  {
   "cell_type": "markdown",
   "metadata": {},
   "source": [
    "## Run blast on cycloprodigiosin gene"
   ]
  },
  {
   "cell_type": "markdown",
   "metadata": {},
   "source": [
    "##### Running on Bunya server (decommisioning ACE servers)"
   ]
  },
  {
   "cell_type": "markdown",
   "metadata": {},
   "source": [
    "#### Blast Cyclo nucleotide sequence (downloaded from JBEI, de Rond et al. 2017) "
   ]
  },
  {
   "cell_type": "code",
   "execution_count": null,
   "metadata": {
    "vscode": {
     "languageId": "shellscript"
    }
   },
   "outputs": [],
   "source": [
    "#!/bin/bash -l\n",
    "#SBATCH --nodes=1\n",
    "#SBATCH --ntasks-per-node=1\n",
    "#SBATCH --cpus-per-task=16\n",
    "#SBATCH --mem=50G\n",
    "#SBATCH --job-name=blast\n",
    "#SBATCH --time=4:00:00\n",
    "#SBATCH --partition=general\n",
    "#SBATCH --account=a_ace\n",
    "#SBATCH -o /home/uqpobri2/scripts/out/blast.output\n",
    "#SBATCH -e /home/uqpobri2/scripts/error/blast.error\n",
    "\n",
    "##########################\n",
    "\n",
    "# load software\n",
    "module load blast\n",
    "\n",
    "# assign variables\n",
    "dbDir=\"/scratch/project/micro_inducers/analysis/ECT03-1_biofilm_MG_2022/09_blast/db\"\n",
    "DataDir=\"/scratch/project/micro_inducers/data/ncbi/cyclo\"\n",
    "OutDir=\"/scratch/project/micro_inducers/analysis/ECT03-1_biofilm_MG_2022/09_blast/blast_results/cyclo\"\n",
    "\n",
    "mkdir -p $OutDir\n",
    "\n",
    "# check variables\n",
    "echo \"\"\n",
    "echo \"#====================#\"\n",
    "echo \"#===== JOB INFO =====#\"\n",
    "echo \"#====================#\"\n",
    "echo \"\"\n",
    "echo \"    SLURM Job ID      :  ${SLURM_JOB_ID}\"\n",
    "echo \"    SLURM Job Name    :  ${SLURM_JOB_NAME}\"\n",
    "echo \"\"\n",
    "echo \"    Input genome path :  ${dbDir}\"\n",
    "echo \"    Input sequences   :  ${DataDir}\" \n",
    "echo \"    Output directory  :  ${OutDir}\"\n",
    "echo \"\"\n",
    "echo \"#====================#\"\n",
    "echo \"\"\n",
    "\n",
    "# blast to MAG database\n",
    "srun tblastx \\\n",
    "    -query $DataDir/PRUB680_cycloprodigiosin.fasta \\\n",
    "    -db $dbDir/all_mags_db \\\n",
    "    -out $OutDir/tblastx_results_cyclo_to_mags.txt \\\n",
    "    -outfmt 6\n",
    "\n",
    "# blast to scaffold database\n",
    "srun tblastx \\\n",
    "    -query $DataDir/PRUB680_cycloprodigiosin.fasta \\\n",
    "    -db $dbDir/all_scaffolds_db \\\n",
    "    -out $OutDir/tblastx_results_cyclo_to_scaffolds.txt \\\n",
    "    -outfmt 6\n"
   ]
  },
  {
   "cell_type": "markdown",
   "metadata": {},
   "source": [
    "#### Find which genomes have a signficant match to cyclo genes"
   ]
  },
  {
   "cell_type": "code",
   "execution_count": null,
   "metadata": {
    "vscode": {
     "languageId": "shellscript"
    }
   },
   "outputs": [],
   "source": [
    "# output significant results, in this case percent identity > 30, aligment >100, e-value < 1e-06, bit score >50\n",
    "# based on Pearson 2013\n",
    "\n",
    "# get significant results\n",
    "awk '$3 > 30 && $4 > 100 && $11 < 1e-06 && $12 > 50 {print}' tblastx_results_cyclo_to_mags.txt | \\\n",
    "sort -k 12,12nr > tblastx_significant_results_cyclo_to_mags_e06-100.txt\n",
    "\n",
    "# get unique gene/MAG matches\n",
    "awk '{print $1, $2}' tblastx_significant_results_cyclo_to_mags_e03-100.txt | sort | uniq > tblastx_unique_matches_cycl_to_mags_e06-100.txt\n"
   ]
  },
  {
   "cell_type": "markdown",
   "metadata": {},
   "source": [
    "#### Repeat with full biosynthesis pathway (pigA-J, downloaded from KEGG) "
   ]
  },
  {
   "cell_type": "code",
   "execution_count": null,
   "metadata": {
    "vscode": {
     "languageId": "shellscript"
    }
   },
   "outputs": [],
   "source": [
    "#!/bin/bash -l\n",
    "#SBATCH --nodes=1\n",
    "#SBATCH --ntasks-per-node=1\n",
    "#SBATCH --cpus-per-task=16\n",
    "#SBATCH --mem=50G\n",
    "#SBATCH --job-name=blast\n",
    "#SBATCH --time=4:00:00\n",
    "#SBATCH --partition=general\n",
    "#SBATCH --account=a_ace\n",
    "#SBATCH -o /home/uqpobri2/scripts/out/blast.output\n",
    "#SBATCH -e /home/uqpobri2/scripts/error/blast.error\n",
    "\n",
    "##########################\n",
    "\n",
    "# load software\n",
    "module load blast\n",
    "\n",
    "# assign variables\n",
    "dbDir=\"/scratch/project/micro_inducers/analysis/ECT03-1_biofilm_MG_2022/09_blast/db\"\n",
    "DataDir=\"/scratch/project/micro_inducers/data/ncbi/cyclo\"\n",
    "OutDir=\"/scratch/project/micro_inducers/analysis/ECT03-1_biofilm_MG_2022/09_blast/blast_results/cyclo\"\n",
    "\n",
    "mkdir -p $OutDir\n",
    "\n",
    "# check variables\n",
    "echo \"\"\n",
    "echo \"#====================#\"\n",
    "echo \"#===== JOB INFO =====#\"\n",
    "echo \"#====================#\"\n",
    "echo \"\"\n",
    "echo \"    SLURM Job ID      :  ${SLURM_JOB_ID}\"\n",
    "echo \"    SLURM Job Name    :  ${SLURM_JOB_NAME}\"\n",
    "echo \"\"\n",
    "echo \"    Input genome path :  ${dbDir}\"\n",
    "echo \"    Input sequences   :  ${DataDir}\" \n",
    "echo \"    Output directory  :  ${OutDir}\"\n",
    "echo \"\"\n",
    "echo \"#====================#\"\n",
    "echo \"\"\n",
    "\n",
    "# blast to MAG database\n",
    "srun tblastx \\\n",
    "    -query $DataDir/cyclo_full_short_names.fasta  \\\n",
    "    -db $dbDir/all_mags_db \\\n",
    "    -out $OutDir/tblastx_results_cyclo_full_to_mags.txt \\\n",
    "    -outfmt 6\n",
    "\n",
    "# blast to scaffold database\n",
    "srun tblastx \\\n",
    "    -query $DataDir/cyclo_full_short_names.fasta  \\\n",
    "    -db $dbDir/all_scaffolds_db \\\n",
    "    -out $OutDir/tblastx_results_cyclo_full_to_scaffolds.txt \\\n",
    "    -outfmt 6\n"
   ]
  },
  {
   "cell_type": "markdown",
   "metadata": {},
   "source": [
    "#### Find which genomes have a signficant matches"
   ]
  },
  {
   "cell_type": "code",
   "execution_count": null,
   "metadata": {
    "vscode": {
     "languageId": "shellscript"
    }
   },
   "outputs": [],
   "source": [
    "# output significant results, in this case percent identity > 30, aligment >100, e-value < 1e-06, bit score >50\n",
    "# based on Pearson 2013\n",
    "\n",
    "# get significant results\n",
    "awk '$3 > 30 && $4 > 100 && $11 < 1e-06 && $12 > 50 {print}' tblastx_results_cyclo_full_to_mags.txt | \\\n",
    "sort -k 12,12nr > tblastx_significant_results_cyclo_full_to_mags_e06-100.txt\n"
   ]
  }
 ],
 "metadata": {
  "kernelspec": {
   "display_name": "Bash",
   "language": "bash",
   "name": "bash"
  },
  "language_info": {
   "codemirror_mode": {
    "name": "ipython",
    "version": 3
   },
   "file_extension": ".py",
   "mimetype": "text/x-python",
   "name": "bash",
   "nbconvert_exporter": "python",
   "pygments_lexer": "ipython3",
   "version": "3.9.18"
  }
 },
 "nbformat": 4,
 "nbformat_minor": 4
}
