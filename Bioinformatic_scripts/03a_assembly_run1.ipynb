{
 "cells": [
  {
   "cell_type": "markdown",
   "metadata": {},
   "source": [
    "# Assemble metagenome using MetaSpades "
   ]
  },
  {
   "cell_type": "markdown",
   "metadata": {},
   "source": [
    "#### Symlink samples to assemble to new directory"
   ]
  },
  {
   "cell_type": "markdown",
   "metadata": {},
   "source": [
    "Assembling one replicate from each Treatment x tank x settlement combination first to save processing time"
   ]
  },
  {
   "cell_type": "code",
   "execution_count": null,
   "metadata": {},
   "outputs": [],
   "source": [
    "# Psin samples\n",
    "\n",
    "READS_DIR=\"/srv/projects/microbial_inducers/data/20221010_metagenome_data_trimmed\"\n",
    "\n",
    "for FILE in $(ls $READS_DIR/{SE2451,SE2454,SE2457,SE2458,SE2460,SE2461,SE2464,SE2468}*.fastq.gz); do\n",
    "    echo $FILE\n",
    "    ln -s $FILE /srv/projects/microbial_inducers/data/psin_to_assemble\n",
    "done"
   ]
  },
  {
   "cell_type": "code",
   "execution_count": null,
   "metadata": {},
   "outputs": [],
   "source": [
    "# Dfav\n",
    "\n",
    "READS_DIR=\"/srv/projects/microbial_inducers/data/20221010_metagenome_data_trimmed\"\n",
    "\n",
    "for FILE in $(ls $READS_DIR/{SE2473,SE2477,SE2478,SE2479,SE2484,SE2485,SE2488,SE2490}*.fastq.gz); do\n",
    "    echo $FILE\n",
    "    ln -s $FILE /srv/projects/microbial_inducers/data/dfav_to_assemble\n",
    "done"
   ]
  },
  {
   "cell_type": "code",
   "execution_count": null,
   "metadata": {},
   "outputs": [],
   "source": [
    "# Plob\n",
    "\n",
    "READS_DIR=\"/srv/projects/microbial_inducers/data/20221010_metagenome_data_trimmed\"\n",
    "\n",
    "for FILE in $(ls $READS_DIR/{SE2496,SE2498,SE2500,SE2503,SE2506,SE2507,SE2508,SE2510,SE2513}*.fastq.gz); do\n",
    "    echo $FILE\n",
    "    ln -s $FILE /srv/projects/microbial_inducers/data/plob_to_assemble\n",
    "done"
   ]
  },
  {
   "cell_type": "code",
   "execution_count": null,
   "metadata": {},
   "outputs": [],
   "source": [
    "# Easp\n",
    "\n",
    "READS_DIR=\"/srv/projects/microbial_inducers/data/20221010_metagenome_data_trimmed\"\n",
    "\n",
    "for FILE in $(ls $READS_DIR/{SE2536,SE2537,SE2540,SE2543,SE2544,SE2548,SE2550,SE2553}*.fastq.gz); do\n",
    "    echo $FILE\n",
    "    ln -s $FILE /srv/projects/microbial_inducers/data/easp_to_assemble\n",
    "done"
   ]
  },
  {
   "cell_type": "markdown",
   "metadata": {},
   "source": [
    "### Assemble metagenomes - sequencing run1"
   ]
  },
  {
   "cell_type": "markdown",
   "metadata": {},
   "source": [
    "#### Psin samples"
   ]
  },
  {
   "cell_type": "code",
   "execution_count": null,
   "metadata": {},
   "outputs": [],
   "source": [
    "#!/bin/bash\n",
    "\n",
    "# load software\n",
    "module load miniconda3\n",
    "conda activate spades_3.15.3\n",
    "\n",
    "# set directories\n",
    "READS_DIR=\"/srv/projects/microbial_inducers/data/psin_to_assemble\"\n",
    "OUT_DIR=\"/srv/projects/microbial_inducers/analysis/biofilm_metagenome/03_assembly/psin\"\n",
    "\n",
    "for FILE in $(ls $READS_DIR/*R1.fastq.gz); do\n",
    "    echo $FILE\n",
    "    SAMPLE=$(basename $FILE | cut -d \"_\" -f 1)\n",
    "    echo $SAMPLE\n",
    "# run metaspades\n",
    "    time metaspades.py \\\n",
    "    -1 $READS_DIR/${SAMPLE}_trimmed_R1.fastq.gz \\\n",
    "    -2 $READS_DIR/${SAMPLE}_trimmed_R2.fastq.gz \\\n",
    "    -o $OUT_DIR/${SAMPLE} \\\n",
    "    -t 20 -m 600\n",
    "done\n"
   ]
  },
  {
   "cell_type": "markdown",
   "metadata": {},
   "source": [
    "#### Dfav"
   ]
  },
  {
   "cell_type": "code",
   "execution_count": null,
   "metadata": {},
   "outputs": [],
   "source": [
    "#!/bin/bash\n",
    "\n",
    "# load software\n",
    "module load miniconda3\n",
    "conda activate spades_3.15.3\n",
    "\n",
    "# set directories\n",
    "READS_DIR=\"/srv/projects/microbial_inducers/data/dfav_to_assemble\"\n",
    "OUT_DIR=\"/srv/projects/microbial_inducers/analysis/biofilm_metagenome/03_assembly/dfav\"\n",
    "\n",
    "for FILE in $(ls $READS_DIR/*R1.fastq.gz); do\n",
    "    echo $FILE\n",
    "    SAMPLE=$(basename $FILE | cut -d \"_\" -f 1)\n",
    "    echo $SAMPLE\n",
    "# run metaspades\n",
    "    time metaspades.py \\\n",
    "    -1 $READS_DIR/${SAMPLE}_trimmed_R1.fastq.gz \\\n",
    "    -2 $READS_DIR/${SAMPLE}_trimmed_R2.fastq.gz \\\n",
    "    -o $OUT_DIR/${SAMPLE} \\\n",
    "    -t 20 -m 300\n",
    "done\n"
   ]
  },
  {
   "cell_type": "code",
   "execution_count": null,
   "metadata": {},
   "outputs": [],
   "source": [
    "#!/bin/bash\n",
    "\n",
    "# re-running SE2485 - out of memory\n",
    "\n",
    "# load software\n",
    "module load miniconda3\n",
    "conda activate spades_3.15.3\n",
    "\n",
    "# set directories\n",
    "READS_DIR=\"/srv/projects/microbial_inducers/data/dfav_to_assemble\"\n",
    "OUT_DIR=\"/srv/projects/microbial_inducers/analysis/biofilm_metagenome/03_assembly/dfav\"\n",
    "\n",
    "# run metaspades\n",
    "time metaspades.py -o $OUT_DIR/SE2485 -t 20 -m 600 --restart-from last\n",
    "\n",
    "conda deactivate\n"
   ]
  },
  {
   "cell_type": "markdown",
   "metadata": {},
   "source": [
    "#### Plob"
   ]
  },
  {
   "cell_type": "code",
   "execution_count": null,
   "metadata": {},
   "outputs": [],
   "source": [
    "#!/bin/bash\n",
    "\n",
    "# load software\n",
    "module load miniconda3\n",
    "conda activate spades_3.15.3\n",
    "\n",
    "# set directories\n",
    "READS_DIR=\"/srv/projects/microbial_inducers/data/plob_to_assemble\"\n",
    "OUT_DIR=\"/srv/projects/microbial_inducers/analysis/biofilm_metagenome/03_assembly/plob\"\n",
    "\n",
    "for FILE in $(ls $READS_DIR/*R1.fastq.gz); do\n",
    "# get variables\n",
    "    echo $FILE\n",
    "    SAMPLE=$(basename $FILE | cut -d \"_\" -f 1)\n",
    "    echo $SAMPLE\n",
    "# run metaspades\n",
    "    nice -n 10 metaspades.py \\\n",
    "    -1 $READS_DIR/${SAMPLE}_trimmed_R1.fastq.gz \\\n",
    "    -2 $READS_DIR/${SAMPLE}_trimmed_R2.fastq.gz \\\n",
    "    -o $OUT_DIR/${SAMPLE} \\\n",
    "    -t 20 -m 400\n",
    "done\n"
   ]
  },
  {
   "cell_type": "markdown",
   "metadata": {},
   "source": [
    "#### Easp"
   ]
  },
  {
   "cell_type": "code",
   "execution_count": null,
   "metadata": {},
   "outputs": [],
   "source": [
    "#!/bin/bash\n",
    "\n",
    "# load software\n",
    "module load miniconda3\n",
    "conda activate spades_3.15.3\n",
    "\n",
    "# set directories\n",
    "READS_DIR=\"/srv/projects/microbial_inducers/data/easp_to_assemble\"\n",
    "OUT_DIR=\"/srv/projects/microbial_inducers/analysis/biofilm_metagenome/03_assembly/easp\"\n",
    "\n",
    "for FILE in $(ls $READS_DIR/*R1.fastq.gz); do\n",
    "# get variables\n",
    "    echo $FILE\n",
    "    SAMPLE=$(basename $FILE | cut -d \"_\" -f 1)\n",
    "    echo $SAMPLE\n",
    "# run metaspades\n",
    "    time metaspades.py \\\n",
    "    -1 $READS_DIR/${SAMPLE}_trimmed_R1.fastq.gz \\\n",
    "    -2 $READS_DIR/${SAMPLE}_trimmed_R2.fastq.gz \\\n",
    "    -o $OUT_DIR/${SAMPLE} \\\n",
    "    -t 20 -m 550\n",
    "done\n"
   ]
  },
  {
   "cell_type": "code",
   "execution_count": null,
   "metadata": {},
   "outputs": [],
   "source": [
    "#!/bin/bash\n",
    "\n",
    "# re-running SE2553 as ran out of memory\n",
    "\n",
    "# load software\n",
    "module load miniconda3\n",
    "conda activate spades_3.15.3\n",
    "\n",
    "# set directories\n",
    "READS_DIR=\"/srv/projects/microbial_inducers/data/easp_to_assemble\"\n",
    "OUT_DIR=\"/srv/projects/microbial_inducers/analysis/biofilm_metagenome/03_assembly/easp\"\n",
    "\n",
    "# run metaspades\n",
    "time metaspades.py -o $OUT_DIR/SE2553 -t 20 -m 750 --restart-from last\n"
   ]
  },
  {
   "cell_type": "markdown",
   "metadata": {},
   "source": [
    "### Consolidate scaffolds and compress assembly files"
   ]
  },
  {
   "cell_type": "markdown",
   "metadata": {},
   "source": [
    "#### Psin"
   ]
  },
  {
   "cell_type": "code",
   "execution_count": null,
   "metadata": {},
   "outputs": [],
   "source": [
    "for DIR in $(ls | grep -v \"tar\"); do\n",
    "    echo $DIR\n",
    "# get file\n",
    "    ls $DIR/scaffolds.fasta\n",
    "    ls $DIR/spades.log\n",
    "# mv file\n",
    "    cp $DIR/scaffolds.fasta ../all_scaffolds/${DIR}_scaffolds.fasta\n",
    "    cp $DIR/spades.log ../all_logs/${DIR}_spades.log\n",
    "done\n",
    "\n",
    "# compress\n",
    "for DIR in $(ls | grep -v \"tar\"); do\n",
    "    echo \"compressing $DIR\"\n",
    "    tar -zcvf ${DIR}.tar.gz $DIR --remove-files $DIR\n",
    "done"
   ]
  },
  {
   "cell_type": "markdown",
   "metadata": {},
   "source": [
    "#### Dfav"
   ]
  },
  {
   "cell_type": "code",
   "execution_count": null,
   "metadata": {},
   "outputs": [],
   "source": [
    "for DIR in $(ls | grep -v \"tar\"); do\n",
    "    echo $DIR\n",
    "# get file\n",
    "    ls $DIR/scaffolds.fasta\n",
    "    ls $DIR/spades.log\n",
    "# mv file\n",
    "    cp $DIR/scaffolds.fasta ../all_scaffolds/${DIR}_scaffolds.fasta\n",
    "    cp $DIR/spades.log ../all_logs/${DIR}_spades.log\n",
    "# compress\n",
    "    echo \"compressing $DIR\"\n",
    "    tar -zcvf ${DIR}.tar.gz $DIR --remove-files $DIR\n",
    "done"
   ]
  },
  {
   "cell_type": "markdown",
   "metadata": {},
   "source": [
    "#### Plob"
   ]
  },
  {
   "cell_type": "code",
   "execution_count": null,
   "metadata": {},
   "outputs": [],
   "source": [
    "for DIR in $(ls | grep -v \"tar\"); do\n",
    "    echo $DIR\n",
    "# get file\n",
    "    ls $DIR/scaffolds.fasta\n",
    "    ls $DIR/spades.log\n",
    "# mv file\n",
    "    cp $DIR/scaffolds.fasta ../all_scaffolds/${DIR}_scaffolds.fasta\n",
    "    cp $DIR/spades.log ../all_logs/${DIR}_spades.log\n",
    "# compress\n",
    "    echo \"compressing $DIR\"\n",
    "    tar -zcvf ${DIR}.tar.gz $DIR --remove-files $DIR\n",
    "done"
   ]
  },
  {
   "cell_type": "markdown",
   "metadata": {},
   "source": [
    "#### Easp"
   ]
  },
  {
   "cell_type": "code",
   "execution_count": null,
   "metadata": {},
   "outputs": [],
   "source": [
    "for DIR in $(ls | grep -v \"tar\"); do\n",
    "# check variables\n",
    "    echo $DIR\n",
    "# get file\n",
    "    ls $DIR/scaffolds.fasta\n",
    "    ls $DIR/spades.log\n",
    "# mv file\n",
    "    cp $DIR/scaffolds.fasta ../all_scaffolds/${DIR}_scaffolds.fasta\n",
    "    cp $DIR/spades.log ../all_logs/${DIR}_spades.log\n",
    "# compress\n",
    "    echo \"compressing $DIR\"\n",
    "    tar -zcvf ${DIR}.tar.gz $DIR --remove-files $DIR\n",
    "done"
   ]
  }
 ],
 "metadata": {
  "kernelspec": {
   "display_name": "Bash",
   "language": "bash",
   "name": "bash"
  },
  "language_info": {
   "codemirror_mode": "shell",
   "file_extension": ".sh",
   "mimetype": "text/x-sh",
   "name": "bash"
  }
 },
 "nbformat": 4,
 "nbformat_minor": 4
}
