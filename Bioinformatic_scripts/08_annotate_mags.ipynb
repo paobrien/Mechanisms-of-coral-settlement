{
 "cells": [
  {
   "cell_type": "markdown",
   "metadata": {},
   "source": [
    "# Annotate MAGs with DRAM "
   ]
  },
  {
   "cell_type": "code",
   "execution_count": null,
   "metadata": {},
   "outputs": [],
   "source": [
    "#!/bin bash\n",
    "\n",
    "# load program\n",
    "module load miniconda3\n",
    "conda activate dram_1.3.3\n",
    "\n",
    "# set variables\n",
    "OUT_DIR=\"/srv/projects/microbial_inducers/analysis/biofilm_metagenome/08_annotate/dram\"\n",
    "GTDB_DIR=\"/srv/projects/microbial_inducers/analysis/biofilm_metagenome/07_gtdb/derep_bins_95/classify\"\n",
    "CHECKM_DIR=\"/srv/projects/microbial_inducers/analysis/biofilm_metagenome/06_checkm/dereplicated_bins_95\"\n",
    "\n",
    "#note: genome_dir needs to be written directly due '' syntax\n",
    "\n",
    "# run annotation pipeline\n",
    "DRAM.py annotate \\\n",
    "-i '/srv/projects/microbial_inducers/analysis/biofilm_metagenome/04_binnning/dereplicated_bins_95/*.fna' \\ \n",
    "-o $OUT_DIR/dram_annotate \\\n",
    "--gtdb_taxonomy $GTDB_DIR/derep_bins.bac120.summary.tsv \\\n",
    "--gtdb_taxonomy $GTDB_DIR/derep_bins.ar53.summary.tsv \\\n",
    "--checkm_quality $CHECKM_DIR/derep_bins.tsv \\\n",
    "--threads 20 \\\n",
    "--verbose\n",
    "\n",
    "# run distill to summarise annotation\n",
    "DRAM.py distill \\\n",
    "-i $OUT_DIR/dram_annotate/annotations.tsv \\\n",
    "-o $OUT_DIR/dram_distill \\\n",
    "--rrna_path $OUT_DIR/dram_annotate/rrnas.tsv \\\n",
    "--trna_path $OUT_DIR/dram_annotate/trnas.tsv \\\n",
    "--groupby_column fasta\n"
   ]
  }
 ],
 "metadata": {
  "kernelspec": {
   "display_name": "Bash",
   "language": "bash",
   "name": "bash"
  },
  "language_info": {
   "codemirror_mode": "shell",
   "file_extension": ".sh",
   "mimetype": "text/x-sh",
   "name": "bash"
  }
 },
 "nbformat": 4,
 "nbformat_minor": 4
}
