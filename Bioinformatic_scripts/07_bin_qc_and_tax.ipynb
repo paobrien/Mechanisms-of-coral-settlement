{
 "cells": [
  {
   "cell_type": "markdown",
   "metadata": {},
   "source": [
    "# Get bin stats, coverage and taxonomy"
   ]
  },
  {
   "cell_type": "markdown",
   "metadata": {},
   "source": [
    "### Check percentage of reads that map to bins"
   ]
  },
  {
   "cell_type": "code",
   "execution_count": null,
   "metadata": {},
   "outputs": [],
   "source": [
    "#!/bin/bash\n",
    "\n",
    "# Map reads to genome bins using coverm\n",
    "\n",
    "# load software\n",
    "module load miniconda3\n",
    "conda activate coverm_0.6.1\n",
    "\n",
    "READS_DIR=\"/srv/projects/microbial_inducers/data/all_reads_trimmed\"\n",
    "GENOMES_DIR=\"/srv/projects/microbial_inducers/analysis/biofilm_metagenome/04_binnning/dereplicated_bins_95\"\n",
    "OUTPUT_DIR=\"/srv/projects/microbial_inducers/analysis/biofilm_metagenome/05_coverm/bins_dereplicated_95\"\n",
    "\n",
    "# get genome coverage\n",
    "coverm genome \\\n",
    "-c $READS_DIR/*fastq.gz \\\n",
    "-d $GENOMES_DIR \\\n",
    "-x fna \\\n",
    "--min-read-aligned-percent 0.75 \\\n",
    "--min-read-percent-identity 0.95 \\\n",
    "-m relative_abundance \\\n",
    "-t 30 \\\n",
    "--output-file $OUTPUT_DIR/dereplicated_genomes_coverage.out \\\n",
    "--output-format dense\n"
   ]
  },
  {
   "cell_type": "markdown",
   "metadata": {},
   "source": [
    "### Check percentage of scaffolds successfully binned"
   ]
  },
  {
   "cell_type": "code",
   "execution_count": null,
   "metadata": {},
   "outputs": [],
   "source": [
    "#!/bin/bash\n",
    "\n",
    "# Use singleM to compare single copy markers between assembly and bins\n",
    "\n",
    "# load software\n",
    "module load miniconda3/1.1\n",
    "conda activate singlem_dev_140922\n",
    "\n",
    "# Using trimmed reads (still sufficient length for singleM)\n",
    "READS_DIR=\"/srv/projects/microbial_inducers/data/all_reads_trimmed\"\n",
    "ASSEMBLY_DIR=\"/srv/projects/microbial_inducers/analysis/biofilm_metagenome/03_assembly/all_scaffolds\"\n",
    "BINS_DIR=\"/srv/projects/microbial_inducers/analysis/biofilm_metagenome/04_binnning/dereplicated_bins_95\"\n",
    "SINGLEM_DIR=\"/srv/projects/microbial_inducers/analysis/biofilm_metagenome/02_singlem/all_samples\"\n",
    "\n",
    "#mkdir -p $SINGLEM_DIR\n",
    "\n",
    "THREADS=20\n",
    "METAPACKAGE=\"/srv/db/singlem_packages/S3.metapackage_20220906.smpkg\"\n",
    "\n",
    "# get single copy markers from bins (better to do this after derep)\n",
    "singlem pipe \\\n",
    "--metapackage $METAPACKAGE \\\n",
    "--genome-fasta-files $BINS_DIR/*.fna \\\n",
    "--otu-table $SINGLEM_DIR/bins.otu_table.tsv \\\n",
    "--threads $THREADS\n",
    "\n",
    "singlem appraise \\\n",
    "--metagenome_otu_tables $SINGLEM_DIR/metagenome.otu_table.tsv \\\n",
    "--assembly_otu_tables $SINGLEM_DIR/assembly.otu_table.tsv \\\n",
    "--genome_otu_tables $SINGLEM_DIR/bins.otu_table.tsv \\\n",
    "#--plot $SINGLEM_DIR/singlem_appraise.svg \\\n",
    "&> $SINGLEM_DIR/bins_appraisal.log\n"
   ]
  },
  {
   "cell_type": "markdown",
   "metadata": {},
   "source": [
    "### Check quality of bins with checkM"
   ]
  },
  {
   "cell_type": "code",
   "execution_count": null,
   "metadata": {},
   "outputs": [],
   "source": [
    "#!/bin/bash\n",
    "\n",
    "# Get bin quality with checkm\n",
    "\n",
    "# Load modules\n",
    "module load miniconda3\n",
    "conda activate checkm-genome-1.1.3\n",
    "\n",
    "GENOME_DIR=\"/srv/projects/microbial_inducers/analysis/biofilm_metagenome/04_binnning/dereplicated_bins_95\"\n",
    "CHECKM_DIR=\"/srv/projects/microbial_inducers/analysis/biofilm_metagenome/06_checkm/dereplicated_bins_95\"\n",
    "\n",
    "# get checkm quality\n",
    "checkm lineage_wf \\\n",
    "$GENOME_DIR $CHECKM_DIR -x fna -t 20\n",
    "\n",
    "# Create checkm file\n",
    "# short = 1, long = 2\n",
    "\n",
    "checkm qa \\\n",
    "$CHECKM_DIR/lineage.ms $CHECKM_DIR -o 2 -f $CHECKM_DIR/derep_bins.tsv --tab_table -t 1"
   ]
  },
  {
   "cell_type": "markdown",
   "metadata": {},
   "source": [
    "### Format data files for R input"
   ]
  },
  {
   "cell_type": "markdown",
   "metadata": {},
   "source": [
    "#### Checkm file"
   ]
  },
  {
   "cell_type": "code",
   "execution_count": null,
   "metadata": {},
   "outputs": [],
   "source": [
    "# replace # with 'No', replace space with '_', remove ()\n",
    "sed -i -e '1 s/#/No/g;1 s/ /_/g;1 s/[)(]//g' derep_bins.tsv"
   ]
  },
  {
   "cell_type": "markdown",
   "metadata": {},
   "source": [
    "#### Coverm file"
   ]
  },
  {
   "cell_type": "code",
   "execution_count": null,
   "metadata": {},
   "outputs": [],
   "source": [
    "# clean column strings\n",
    "sed -i -e 's/_trimmed_R1.fastq.gz Relative Abundance (%)//g' dereplicated_genomes_coverage.out"
   ]
  },
  {
   "cell_type": "markdown",
   "metadata": {},
   "source": [
    "### Classify bins using GTDB-tk"
   ]
  },
  {
   "cell_type": "code",
   "execution_count": null,
   "metadata": {},
   "outputs": [],
   "source": [
    "#!/bin/bash\n",
    "\n",
    "## Get MAG taxonomy with GTDB\n",
    "\n",
    "# load software\n",
    "module load miniconda3\n",
    "conda activate gtdbtk-2.1.0\n",
    "\n",
    "GENOME_DIR=\"/srv/projects/microbial_inducers/analysis/biofilm_metagenome/04_binnning/dereplicated_bins_95\"\n",
    "OUT_DIR=\"/srv/projects/microbial_inducers/analysis/biofilm_metagenome/07_gtdb/derep_bins_95\"\n",
    "\n",
    "# run gtdb\n",
    "gtdbtk classify_wf \\\n",
    "--genome_dir $GENOME_DIR \\\n",
    "--out_dir $OUT_DIR \\\n",
    "-x fna \\\n",
    "--prefix derep_bins \\\n",
    "--cpus 20 \\\n",
    "--full_tree\n"
   ]
  }
 ],
 "metadata": {
  "kernelspec": {
   "display_name": "Bash",
   "language": "bash",
   "name": "bash"
  },
  "language_info": {
   "codemirror_mode": "shell",
   "file_extension": ".sh",
   "mimetype": "text/x-sh",
   "name": "bash"
  }
 },
 "nbformat": 4,
 "nbformat_minor": 4
}
